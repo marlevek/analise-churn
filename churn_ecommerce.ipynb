{
 "cells": [
  {
   "cell_type": "code",
   "execution_count": 1,
   "metadata": {},
   "outputs": [],
   "source": [
    "import pandas as pd\n",
    "from sklearn.model_selection import train_test_split\n",
    "from sklearn.preprocessing import LabelEncoder\n",
    "from sklearn.linear_model import LogisticRegression\n",
    "from sklearn.tree import DecisionTreeClassifier\n",
    "from sklearn.ensemble import RandomForestClassifier\n",
    "from sklearn.metrics import classification_report, confusion_matrix"
   ]
  },
  {
   "cell_type": "markdown",
   "metadata": {},
   "source": [
    "# <h4>1. Preparação dos dados</h4>"
   ]
  },
  {
   "cell_type": "code",
   "execution_count": 2,
   "metadata": {},
   "outputs": [
    {
     "data": {
      "text/html": [
       "<div>\n",
       "<style scoped>\n",
       "    .dataframe tbody tr th:only-of-type {\n",
       "        vertical-align: middle;\n",
       "    }\n",
       "\n",
       "    .dataframe tbody tr th {\n",
       "        vertical-align: top;\n",
       "    }\n",
       "\n",
       "    .dataframe thead th {\n",
       "        text-align: right;\n",
       "    }\n",
       "</style>\n",
       "<table border=\"1\" class=\"dataframe\">\n",
       "  <thead>\n",
       "    <tr style=\"text-align: right;\">\n",
       "      <th></th>\n",
       "      <th>account length</th>\n",
       "      <th>location code</th>\n",
       "      <th>user id</th>\n",
       "      <th>credit card info save</th>\n",
       "      <th>push status</th>\n",
       "      <th>add to wishlist</th>\n",
       "      <th>desktop sessions</th>\n",
       "      <th>app sessions</th>\n",
       "      <th>desktop transactions</th>\n",
       "      <th>total product detail views</th>\n",
       "      <th>session duration</th>\n",
       "      <th>promotion clicks</th>\n",
       "      <th>avg order value</th>\n",
       "      <th>sale product views</th>\n",
       "      <th>discount rate per visited products</th>\n",
       "      <th>product detail view per app session</th>\n",
       "      <th>app transactions</th>\n",
       "      <th>add to cart per session</th>\n",
       "      <th>customer service calls</th>\n",
       "      <th>churn</th>\n",
       "    </tr>\n",
       "  </thead>\n",
       "  <tbody>\n",
       "    <tr>\n",
       "      <th>0</th>\n",
       "      <td>128</td>\n",
       "      <td>415</td>\n",
       "      <td>3824657</td>\n",
       "      <td>no</td>\n",
       "      <td>yes</td>\n",
       "      <td>25</td>\n",
       "      <td>265</td>\n",
       "      <td>45</td>\n",
       "      <td>17</td>\n",
       "      <td>110</td>\n",
       "      <td>197</td>\n",
       "      <td>87</td>\n",
       "      <td>244.7</td>\n",
       "      <td>91</td>\n",
       "      <td>11.01</td>\n",
       "      <td>10.0</td>\n",
       "      <td>3</td>\n",
       "      <td>2.70</td>\n",
       "      <td>1</td>\n",
       "      <td>0</td>\n",
       "    </tr>\n",
       "    <tr>\n",
       "      <th>1</th>\n",
       "      <td>107</td>\n",
       "      <td>415</td>\n",
       "      <td>3717191</td>\n",
       "      <td>no</td>\n",
       "      <td>yes</td>\n",
       "      <td>26</td>\n",
       "      <td>162</td>\n",
       "      <td>27</td>\n",
       "      <td>17</td>\n",
       "      <td>123</td>\n",
       "      <td>196</td>\n",
       "      <td>103</td>\n",
       "      <td>254.4</td>\n",
       "      <td>103</td>\n",
       "      <td>11.45</td>\n",
       "      <td>13.7</td>\n",
       "      <td>3</td>\n",
       "      <td>3.70</td>\n",
       "      <td>1</td>\n",
       "      <td>0</td>\n",
       "    </tr>\n",
       "    <tr>\n",
       "      <th>2</th>\n",
       "      <td>137</td>\n",
       "      <td>415</td>\n",
       "      <td>3581921</td>\n",
       "      <td>no</td>\n",
       "      <td>no</td>\n",
       "      <td>0</td>\n",
       "      <td>243</td>\n",
       "      <td>41</td>\n",
       "      <td>10</td>\n",
       "      <td>114</td>\n",
       "      <td>121</td>\n",
       "      <td>110</td>\n",
       "      <td>162.6</td>\n",
       "      <td>104</td>\n",
       "      <td>7.32</td>\n",
       "      <td>12.2</td>\n",
       "      <td>5</td>\n",
       "      <td>3.29</td>\n",
       "      <td>0</td>\n",
       "      <td>0</td>\n",
       "    </tr>\n",
       "    <tr>\n",
       "      <th>3</th>\n",
       "      <td>84</td>\n",
       "      <td>408</td>\n",
       "      <td>3759999</td>\n",
       "      <td>yes</td>\n",
       "      <td>no</td>\n",
       "      <td>0</td>\n",
       "      <td>299</td>\n",
       "      <td>51</td>\n",
       "      <td>5</td>\n",
       "      <td>71</td>\n",
       "      <td>62</td>\n",
       "      <td>88</td>\n",
       "      <td>196.9</td>\n",
       "      <td>89</td>\n",
       "      <td>8.86</td>\n",
       "      <td>6.6</td>\n",
       "      <td>7</td>\n",
       "      <td>1.78</td>\n",
       "      <td>2</td>\n",
       "      <td>0</td>\n",
       "    </tr>\n",
       "    <tr>\n",
       "      <th>4</th>\n",
       "      <td>75</td>\n",
       "      <td>415</td>\n",
       "      <td>3306626</td>\n",
       "      <td>yes</td>\n",
       "      <td>no</td>\n",
       "      <td>0</td>\n",
       "      <td>167</td>\n",
       "      <td>28</td>\n",
       "      <td>13</td>\n",
       "      <td>113</td>\n",
       "      <td>148</td>\n",
       "      <td>122</td>\n",
       "      <td>186.9</td>\n",
       "      <td>121</td>\n",
       "      <td>8.41</td>\n",
       "      <td>10.1</td>\n",
       "      <td>3</td>\n",
       "      <td>2.73</td>\n",
       "      <td>3</td>\n",
       "      <td>0</td>\n",
       "    </tr>\n",
       "  </tbody>\n",
       "</table>\n",
       "</div>"
      ],
      "text/plain": [
       "   account length  location code  user id credit card info save push status  \\\n",
       "0             128            415  3824657                    no         yes   \n",
       "1             107            415  3717191                    no         yes   \n",
       "2             137            415  3581921                    no          no   \n",
       "3              84            408  3759999                   yes          no   \n",
       "4              75            415  3306626                   yes          no   \n",
       "\n",
       "   add to wishlist  desktop sessions  app sessions  desktop transactions  \\\n",
       "0               25               265            45                    17   \n",
       "1               26               162            27                    17   \n",
       "2                0               243            41                    10   \n",
       "3                0               299            51                     5   \n",
       "4                0               167            28                    13   \n",
       "\n",
       "   total product detail views  session duration  promotion clicks  \\\n",
       "0                         110               197                87   \n",
       "1                         123               196               103   \n",
       "2                         114               121               110   \n",
       "3                          71                62                88   \n",
       "4                         113               148               122   \n",
       "\n",
       "   avg order value  sale product views  discount rate per visited products  \\\n",
       "0            244.7                  91                               11.01   \n",
       "1            254.4                 103                               11.45   \n",
       "2            162.6                 104                                7.32   \n",
       "3            196.9                  89                                8.86   \n",
       "4            186.9                 121                                8.41   \n",
       "\n",
       "   product detail view per app session  app transactions  \\\n",
       "0                                 10.0                 3   \n",
       "1                                 13.7                 3   \n",
       "2                                 12.2                 5   \n",
       "3                                  6.6                 7   \n",
       "4                                 10.1                 3   \n",
       "\n",
       "   add to cart per session  customer service calls  churn  \n",
       "0                     2.70                       1      0  \n",
       "1                     3.70                       1      0  \n",
       "2                     3.29                       0      0  \n",
       "3                     1.78                       2      0  \n",
       "4                     2.73                       3      0  "
      ]
     },
     "execution_count": 2,
     "metadata": {},
     "output_type": "execute_result"
    }
   ],
   "source": [
    "# carregar os dados\n",
    "df = pd.read_csv('data1.csv', sep=';', decimal=',')\n",
    "df.head()"
   ]
  },
  {
   "cell_type": "code",
   "execution_count": 3,
   "metadata": {},
   "outputs": [
    {
     "name": "stdout",
     "output_type": "stream",
     "text": [
      "<class 'pandas.core.frame.DataFrame'>\n",
      "RangeIndex: 3333 entries, 0 to 3332\n",
      "Data columns (total 20 columns):\n",
      " #   Column                               Non-Null Count  Dtype  \n",
      "---  ------                               --------------  -----  \n",
      " 0   account length                       3333 non-null   int64  \n",
      " 1   location code                        3333 non-null   int64  \n",
      " 2   user id                              3333 non-null   int64  \n",
      " 3   credit card info save                3333 non-null   object \n",
      " 4   push status                          3333 non-null   object \n",
      " 5   add to wishlist                      3333 non-null   int64  \n",
      " 6   desktop sessions                     3333 non-null   int64  \n",
      " 7   app sessions                         3333 non-null   int64  \n",
      " 8   desktop transactions                 3333 non-null   int64  \n",
      " 9   total product detail views           3333 non-null   int64  \n",
      " 10  session duration                     3333 non-null   int64  \n",
      " 11  promotion clicks                     3333 non-null   int64  \n",
      " 12  avg order value                      3333 non-null   float64\n",
      " 13  sale product views                   3333 non-null   int64  \n",
      " 14  discount rate per visited products   3333 non-null   float64\n",
      " 15  product detail view per app session  3333 non-null   float64\n",
      " 16  app transactions                     3333 non-null   int64  \n",
      " 17  add to cart per session              3333 non-null   float64\n",
      " 18  customer service calls               3333 non-null   int64  \n",
      " 19  churn                                3333 non-null   int64  \n",
      "dtypes: float64(4), int64(14), object(2)\n",
      "memory usage: 520.9+ KB\n"
     ]
    }
   ],
   "source": [
    "# Info dos dados\n",
    "df.info()"
   ]
  },
  {
   "cell_type": "code",
   "execution_count": 4,
   "metadata": {},
   "outputs": [],
   "source": [
    "# Removendo a coluna user id\n",
    "df.drop('user id', axis=1, inplace=True)"
   ]
  },
  {
   "cell_type": "code",
   "execution_count": 5,
   "metadata": {},
   "outputs": [],
   "source": [
    "# Codificando variáveis categórcias em numéricas\n",
    "labelencoder = LabelEncoder()\n",
    "df['credit card info save'] = labelencoder.fit_transform(df['credit card info save'])\n",
    "df['push status'] = labelencoder.fit_transform(df['push status'])"
   ]
  },
  {
   "cell_type": "code",
   "execution_count": 6,
   "metadata": {},
   "outputs": [],
   "source": [
    "# Defindo as variáveis preditoras (X) e a alvo (y)\n",
    "X = df.drop('churn', axis=1)\n",
    "y = df['churn']"
   ]
  },
  {
   "cell_type": "markdown",
   "metadata": {},
   "source": [
    "# <h4>2. Separação dos dados em treino e teste e treino dos modelos</h4>"
   ]
  },
  {
   "cell_type": "code",
   "execution_count": 7,
   "metadata": {},
   "outputs": [],
   "source": [
    "# Separar em dados de treino e teste\n",
    "X_train, X_test, y_train, y_test = train_test_split(\n",
    "    X, y, test_size=0.2, random_state=42\n",
    ")"
   ]
  },
  {
   "cell_type": "code",
   "execution_count": 8,
   "metadata": {},
   "outputs": [
    {
     "name": "stderr",
     "output_type": "stream",
     "text": [
      "c:\\Users\\marce\\AppData\\Local\\Programs\\Python\\Python310\\lib\\site-packages\\sklearn\\linear_model\\_logistic.py:814: ConvergenceWarning: lbfgs failed to converge (status=1):\n",
      "STOP: TOTAL NO. of ITERATIONS REACHED LIMIT.\n",
      "\n",
      "Increase the number of iterations (max_iter) or scale the data as shown in:\n",
      "    https://scikit-learn.org/stable/modules/preprocessing.html\n",
      "Please also refer to the documentation for alternative solver options:\n",
      "    https://scikit-learn.org/stable/modules/linear_model.html#logistic-regression\n",
      "  n_iter_i = _check_optimize_result(\n"
     ]
    },
    {
     "data": {
      "text/plain": [
       "RandomForestClassifier()"
      ]
     },
     "execution_count": 8,
     "metadata": {},
     "output_type": "execute_result"
    }
   ],
   "source": [
    "# Criando e Treinando os modelos\n",
    "\n",
    "# Regressão Logística\n",
    "logistic_model = LogisticRegression()\n",
    "logistic_model.fit(X_train, y_train)\n",
    "\n",
    "# Árvore de Decisão\n",
    "dec_tree_model = DecisionTreeClassifier()\n",
    "dec_tree_model.fit(X_train, y_train)\n",
    "\n",
    "# Random Forest\n",
    "rnd_forest_model = RandomForestClassifier()\n",
    "rnd_forest_model.fit(X_train, y_train)"
   ]
  },
  {
   "cell_type": "markdown",
   "metadata": {},
   "source": [
    "# <h4>3. Previsão dos modelos</h4>"
   ]
  },
  {
   "cell_type": "code",
   "execution_count": 9,
   "metadata": {},
   "outputs": [],
   "source": [
    "logistic_pred = logistic_model.predict(X_test)\n",
    "dec_tree_pred = dec_tree_model.predict(X_test)\n",
    "rnd_forest_pred = rnd_forest_model.predict(X_test)"
   ]
  },
  {
   "cell_type": "markdown",
   "metadata": {},
   "source": [
    "# <h4>4. Avaliação dos modelos</h4>"
   ]
  },
  {
   "cell_type": "code",
   "execution_count": 19,
   "metadata": {},
   "outputs": [
    {
     "name": "stdout",
     "output_type": "stream",
     "text": [
      "Relatório de Classificação\n",
      "\n",
      "Regressão Logística:\n",
      "              precision    recall  f1-score   support\n",
      "\n",
      "           0       0.85      0.99      0.92       566\n",
      "           1       0.57      0.04      0.07       101\n",
      "\n",
      "    accuracy                           0.85       667\n",
      "   macro avg       0.71      0.52      0.50       667\n",
      "weighted avg       0.81      0.85      0.79       667\n",
      "\n",
      "Matriz de confusão:\n",
      "[[563   3]\n",
      " [ 97   4]]\n",
      "Total de acertos: 567\n",
      "\n",
      "Árvore de Decisão:\n",
      "              precision    recall  f1-score   support\n",
      "\n",
      "           0       0.95      0.95      0.95       566\n",
      "           1       0.71      0.74      0.73       101\n",
      "\n",
      "    accuracy                           0.92       667\n",
      "   macro avg       0.83      0.84      0.84       667\n",
      "weighted avg       0.92      0.92      0.92       667\n",
      "\n",
      "Matriz de confusão:\n",
      "[[536  30]\n",
      " [ 26  75]]\n",
      "Total de acertos: 611\n",
      "\n",
      "Random Forest:\n",
      "              precision    recall  f1-score   support\n",
      "\n",
      "           0       0.95      0.99      0.97       566\n",
      "           1       0.91      0.69      0.79       101\n",
      "\n",
      "    accuracy                           0.94       667\n",
      "   macro avg       0.93      0.84      0.88       667\n",
      "weighted avg       0.94      0.94      0.94       667\n",
      "\n",
      "Matriz de confusão:\n",
      "[[559   7]\n",
      " [ 31  70]]\n",
      "Total de acertos: 629\n"
     ]
    }
   ],
   "source": [
    "print('Relatório de Classificação\\n')\n",
    "\n",
    "print(f'Regressão Logística:\\n{classification_report(y_test,logistic_pred)}')\n",
    "print(f'Matriz de confusão:\\n{confusion_matrix(y_test, logistic_pred)}')\n",
    "confusao = confusion_matrix(y_test, logistic_pred)\n",
    "acertos = confusao[0, 0] + confusao[1, 1]\n",
    "print(f'Total de acertos: {acertos}\\n')\n",
    "\n",
    "print(f'Árvore de Decisão:\\n{classification_report(y_test,dec_tree_pred)}')\n",
    "print(f'Matriz de confusão:\\n{confusion_matrix(y_test, dec_tree_pred)}')\n",
    "confusao = confusion_matrix(y_test, dec_tree_pred)\n",
    "acertos = confusao[0, 0] + confusao[1, 1]\n",
    "print(f'Total de acertos: {acertos}\\n')\n",
    "\n",
    "print(f'Random Forest:\\n{classification_report(y_test,rnd_forest_pred)}')\n",
    "print(f'Matriz de confusão:\\n{confusion_matrix(y_test, rnd_forest_pred)}')\n",
    "confusao = confusion_matrix(y_test, rnd_forest_pred)\n",
    "acertos = confusao[0, 0] + confusao[1, 1]\n",
    "print(f'Total de acertos: {acertos}')\n"
   ]
  },
  {
   "cell_type": "markdown",
   "metadata": {},
   "source": [
    "# <h4>4. Interpretação dos Resultados</h4>"
   ]
  },
  {
   "cell_type": "markdown",
   "metadata": {},
   "source": [
    "Com base nos resultados da avaliação dos modelos, o Random Forest foi o que melhor desempenho teve com acurácia de 94% e um total de acertos de 629."
   ]
  },
  {
   "cell_type": "markdown",
   "metadata": {},
   "source": [
    "# <h4>5. Implementação de Estratégias de Retenção</h4>"
   ]
  },
  {
   "cell_type": "markdown",
   "metadata": {},
   "source": [
    "Com base nos insights obtidos com a análise de churn, podemos desenvolver estratégias para reter clientes. \n",
    "\n",
    "Isso pode envolver a criação de programas de fidelidade, melhorias no atendimento ao cliente ou ações direcionadas a clientes em risco de churn, com base nas características identificadas como relevantes pelos modelos. "
   ]
  }
 ],
 "metadata": {
  "kernelspec": {
   "display_name": "Python 3",
   "language": "python",
   "name": "python3"
  },
  "language_info": {
   "codemirror_mode": {
    "name": "ipython",
    "version": 3
   },
   "file_extension": ".py",
   "mimetype": "text/x-python",
   "name": "python",
   "nbconvert_exporter": "python",
   "pygments_lexer": "ipython3",
   "version": "3.10.1"
  },
  "orig_nbformat": 4
 },
 "nbformat": 4,
 "nbformat_minor": 2
}
